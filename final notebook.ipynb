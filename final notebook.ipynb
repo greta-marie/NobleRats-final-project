{
 "cells": [
  {
   "cell_type": "markdown",
   "metadata": {},
   "source": [
    "# Noble Rats - Big Ideas Final"
   ]
  },
  {
   "cell_type": "markdown",
   "metadata": {},
   "source": [
    "## Introduction\n",
    "\n",
    "As the noble rats of the city of pittsburgh, we've made it our goal to identify the stinkiest neighbourhood in the city. From WPRDC we found three datasets that will reveal to us the best/stinkiest neigborhood."
   ]
  },
  {
   "cell_type": "markdown",
   "metadata": {},
   "source": [
    "**Smart Trash Dataset**"
   ]
  },
  {
   "cell_type": "code",
   "execution_count": 7,
   "metadata": {},
   "outputs": [
    {
     "data": {
      "text/html": [
       "<div>\n",
       "<style scoped>\n",
       "    .dataframe tbody tr th:only-of-type {\n",
       "        vertical-align: middle;\n",
       "    }\n",
       "\n",
       "    .dataframe tbody tr th {\n",
       "        vertical-align: top;\n",
       "    }\n",
       "\n",
       "    .dataframe thead th {\n",
       "        text-align: right;\n",
       "    }\n",
       "</style>\n",
       "<table border=\"1\" class=\"dataframe\">\n",
       "  <thead>\n",
       "    <tr style=\"text-align: right;\">\n",
       "      <th></th>\n",
       "      <th>container_id</th>\n",
       "      <th>receptacle_model_id</th>\n",
       "      <th>assignment_date</th>\n",
       "      <th>last_updated_date</th>\n",
       "      <th>group_name</th>\n",
       "      <th>address</th>\n",
       "      <th>city</th>\n",
       "      <th>state</th>\n",
       "      <th>zip</th>\n",
       "      <th>neighborhood</th>\n",
       "      <th>dpw_division</th>\n",
       "      <th>council_district</th>\n",
       "      <th>ward</th>\n",
       "      <th>fire_zone</th>\n",
       "      <th>x</th>\n",
       "      <th>y</th>\n",
       "    </tr>\n",
       "  </thead>\n",
       "  <tbody>\n",
       "    <tr>\n",
       "      <th>0</th>\n",
       "      <td>1</td>\n",
       "      <td>74</td>\n",
       "      <td>2017-09-14T13:24:40</td>\n",
       "      <td>2022-11-24T13:17:19</td>\n",
       "      <td>1st Division</td>\n",
       "      <td>122 E North Ave</td>\n",
       "      <td>Pittsburgh</td>\n",
       "      <td>Pennsylvania</td>\n",
       "      <td>15212</td>\n",
       "      <td>Central Northside</td>\n",
       "      <td>1.0</td>\n",
       "      <td>1.0</td>\n",
       "      <td>22.0</td>\n",
       "      <td>1-6</td>\n",
       "      <td>-80.004018</td>\n",
       "      <td>40.456073</td>\n",
       "    </tr>\n",
       "    <tr>\n",
       "      <th>1</th>\n",
       "      <td>2</td>\n",
       "      <td>74</td>\n",
       "      <td>2017-09-14T13:24:40</td>\n",
       "      <td>2022-11-29T01:55:53</td>\n",
       "      <td>1st Division</td>\n",
       "      <td>2507 Brighton Rd</td>\n",
       "      <td>Pittsburgh</td>\n",
       "      <td>Pennsylvania</td>\n",
       "      <td>15212</td>\n",
       "      <td>Marshall-Shadeland</td>\n",
       "      <td>1.0</td>\n",
       "      <td>1.0</td>\n",
       "      <td>27.0</td>\n",
       "      <td>1-9</td>\n",
       "      <td>-80.025132</td>\n",
       "      <td>40.467213</td>\n",
       "    </tr>\n",
       "    <tr>\n",
       "      <th>2</th>\n",
       "      <td>3</td>\n",
       "      <td>74</td>\n",
       "      <td>2017-09-14T13:24:40</td>\n",
       "      <td>2022-04-14T01:59:18</td>\n",
       "      <td>1st Division</td>\n",
       "      <td>1300 Federal St</td>\n",
       "      <td>Pittsburgh</td>\n",
       "      <td>Pennsylvania</td>\n",
       "      <td>15212</td>\n",
       "      <td>Central Northside</td>\n",
       "      <td>1.0</td>\n",
       "      <td>1.0</td>\n",
       "      <td>22.0</td>\n",
       "      <td>1-6</td>\n",
       "      <td>-80.006872</td>\n",
       "      <td>40.456625</td>\n",
       "    </tr>\n",
       "    <tr>\n",
       "      <th>3</th>\n",
       "      <td>4</td>\n",
       "      <td>74</td>\n",
       "      <td>2017-09-14T13:24:40</td>\n",
       "      <td>2022-10-24T12:40:24</td>\n",
       "      <td>1st Division</td>\n",
       "      <td>110 Federal St</td>\n",
       "      <td>Pittsburgh</td>\n",
       "      <td>Pennsylvania</td>\n",
       "      <td>15212</td>\n",
       "      <td>Allegheny Center</td>\n",
       "      <td>1.0</td>\n",
       "      <td>1.0</td>\n",
       "      <td>22.0</td>\n",
       "      <td>1-6</td>\n",
       "      <td>-80.006250</td>\n",
       "      <td>40.454520</td>\n",
       "    </tr>\n",
       "    <tr>\n",
       "      <th>4</th>\n",
       "      <td>5</td>\n",
       "      <td>74</td>\n",
       "      <td>2017-09-19T12:22:45</td>\n",
       "      <td>2022-11-28T01:58:21</td>\n",
       "      <td>1st Division</td>\n",
       "      <td>490 E North Ave</td>\n",
       "      <td>Pittsburgh</td>\n",
       "      <td>Pennsylvania</td>\n",
       "      <td>15212</td>\n",
       "      <td>Central Northside</td>\n",
       "      <td>1.0</td>\n",
       "      <td>1.0</td>\n",
       "      <td>22.0</td>\n",
       "      <td>1-6</td>\n",
       "      <td>-80.002083</td>\n",
       "      <td>40.456444</td>\n",
       "    </tr>\n",
       "  </tbody>\n",
       "</table>\n",
       "</div>"
      ],
      "text/plain": [
       "   container_id  receptacle_model_id      assignment_date  \\\n",
       "0             1                   74  2017-09-14T13:24:40   \n",
       "1             2                   74  2017-09-14T13:24:40   \n",
       "2             3                   74  2017-09-14T13:24:40   \n",
       "3             4                   74  2017-09-14T13:24:40   \n",
       "4             5                   74  2017-09-19T12:22:45   \n",
       "\n",
       "     last_updated_date    group_name           address        city  \\\n",
       "0  2022-11-24T13:17:19  1st Division   122 E North Ave  Pittsburgh   \n",
       "1  2022-11-29T01:55:53  1st Division  2507 Brighton Rd  Pittsburgh   \n",
       "2  2022-04-14T01:59:18  1st Division   1300 Federal St  Pittsburgh   \n",
       "3  2022-10-24T12:40:24  1st Division    110 Federal St  Pittsburgh   \n",
       "4  2022-11-28T01:58:21  1st Division   490 E North Ave  Pittsburgh   \n",
       "\n",
       "          state    zip        neighborhood  dpw_division  council_district  \\\n",
       "0  Pennsylvania  15212   Central Northside           1.0               1.0   \n",
       "1  Pennsylvania  15212  Marshall-Shadeland           1.0               1.0   \n",
       "2  Pennsylvania  15212   Central Northside           1.0               1.0   \n",
       "3  Pennsylvania  15212    Allegheny Center           1.0               1.0   \n",
       "4  Pennsylvania  15212   Central Northside           1.0               1.0   \n",
       "\n",
       "   ward fire_zone          x          y  \n",
       "0  22.0       1-6 -80.004018  40.456073  \n",
       "1  27.0       1-9 -80.025132  40.467213  \n",
       "2  22.0       1-6 -80.006872  40.456625  \n",
       "3  22.0       1-6 -80.006250  40.454520  \n",
       "4  22.0       1-6 -80.002083  40.456444  "
      ]
     },
     "execution_count": 7,
     "metadata": {},
     "output_type": "execute_result"
    }
   ],
   "source": [
    "import pandas as pd\n",
    "\n",
    "smart_trash = pd.read_csv(\"smart_trash.csv\") \n",
    "smart_trash.head()"
   ]
  },
  {
   "cell_type": "markdown",
   "metadata": {},
   "source": [
    "**Illegal Dumpsite Dataset**"
   ]
  },
  {
   "cell_type": "code",
   "execution_count": 17,
   "metadata": {},
   "outputs": [
    {
     "data": {
      "text/html": [
       "<div>\n",
       "<style scoped>\n",
       "    .dataframe tbody tr th:only-of-type {\n",
       "        vertical-align: middle;\n",
       "    }\n",
       "\n",
       "    .dataframe tbody tr th {\n",
       "        vertical-align: top;\n",
       "    }\n",
       "\n",
       "    .dataframe thead th {\n",
       "        text-align: right;\n",
       "    }\n",
       "</style>\n",
       "<table border=\"1\" class=\"dataframe\">\n",
       "  <thead>\n",
       "    <tr style=\"text-align: right;\">\n",
       "      <th></th>\n",
       "      <th>site_name</th>\n",
       "      <th>Status</th>\n",
       "      <th>City</th>\n",
       "      <th>Neighborhood</th>\n",
       "      <th>estimated_tons</th>\n",
       "      <th>location_description</th>\n",
       "      <th>latitude</th>\n",
       "      <th>longitude</th>\n",
       "      <th>Unnamed: 8</th>\n",
       "    </tr>\n",
       "  </thead>\n",
       "  <tbody>\n",
       "    <tr>\n",
       "      <th>0</th>\n",
       "      <td>St. Martin Street</td>\n",
       "      <td>Surveyed</td>\n",
       "      <td>Pittsburgh</td>\n",
       "      <td>Allentown</td>\n",
       "      <td>0.5</td>\n",
       "      <td>NaN</td>\n",
       "      <td>40.42221971</td>\n",
       "      <td>-79.99022525</td>\n",
       "      <td>NaN</td>\n",
       "    </tr>\n",
       "    <tr>\n",
       "      <th>1</th>\n",
       "      <td>Brosville Street</td>\n",
       "      <td>Surveyed</td>\n",
       "      <td>Pittsburgh</td>\n",
       "      <td>Allentown</td>\n",
       "      <td>3</td>\n",
       "      <td>NaN</td>\n",
       "      <td>40.42370101</td>\n",
       "      <td>-79.98657393</td>\n",
       "      <td>NaN</td>\n",
       "    </tr>\n",
       "    <tr>\n",
       "      <th>2</th>\n",
       "      <td>McCain Street</td>\n",
       "      <td>Surveyed</td>\n",
       "      <td>Pittsburgh</td>\n",
       "      <td>Allentown</td>\n",
       "      <td>1</td>\n",
       "      <td>NaN</td>\n",
       "      <td>40.42427063</td>\n",
       "      <td>-79.99022675</td>\n",
       "      <td>NaN</td>\n",
       "    </tr>\n",
       "    <tr>\n",
       "      <th>3</th>\n",
       "      <td>Ceres Way</td>\n",
       "      <td>Surveyed</td>\n",
       "      <td>Pittsburgh</td>\n",
       "      <td>Allentown</td>\n",
       "      <td>0.5</td>\n",
       "      <td>NaN</td>\n",
       "      <td>40.42327242</td>\n",
       "      <td>-79.99248958</td>\n",
       "      <td>NaN</td>\n",
       "    </tr>\n",
       "    <tr>\n",
       "      <th>4</th>\n",
       "      <td>Eureka Street</td>\n",
       "      <td>Completed</td>\n",
       "      <td>Pittsburgh</td>\n",
       "      <td>Allentown</td>\n",
       "      <td>0.1</td>\n",
       "      <td>NaN</td>\n",
       "      <td>40.42372131</td>\n",
       "      <td>-79.99478912</td>\n",
       "      <td>NaN</td>\n",
       "    </tr>\n",
       "  </tbody>\n",
       "</table>\n",
       "</div>"
      ],
      "text/plain": [
       "           site_name     Status        City Neighborhood estimated_tons  \\\n",
       "0  St. Martin Street   Surveyed  Pittsburgh    Allentown            0.5   \n",
       "1   Brosville Street   Surveyed  Pittsburgh    Allentown              3   \n",
       "2      McCain Street   Surveyed  Pittsburgh    Allentown              1   \n",
       "3          Ceres Way   Surveyed  Pittsburgh    Allentown            0.5   \n",
       "4      Eureka Street  Completed  Pittsburgh    Allentown            0.1   \n",
       "\n",
       "  location_description     latitude     longitude  Unnamed: 8  \n",
       "0                  NaN  40.42221971  -79.99022525         NaN  \n",
       "1                  NaN  40.42370101  -79.98657393         NaN  \n",
       "2                  NaN  40.42427063  -79.99022675         NaN  \n",
       "3                  NaN  40.42327242  -79.99248958         NaN  \n",
       "4                  NaN  40.42372131  -79.99478912         NaN  "
      ]
     },
     "execution_count": 17,
     "metadata": {},
     "output_type": "execute_result"
    }
   ],
   "source": [
    "import numpy as np\n",
    "%matplotlib inline\n",
    "import matplotlib.pyplot as plt\n",
    "import geopandas as geo\n",
    "\n",
    "illegaldumpsites = pd.read_csv(\"illegaldumpsites.csv\")\n",
    "illegaldumpsites.head()"
   ]
  },
  {
   "cell_type": "markdown",
   "metadata": {},
   "source": [
    "**Beautify The Burgh Dataset**"
   ]
  },
  {
   "cell_type": "code",
   "execution_count": 9,
   "metadata": {},
   "outputs": [
    {
     "data": {
      "text/html": [
       "<div>\n",
       "<style scoped>\n",
       "    .dataframe tbody tr th:only-of-type {\n",
       "        vertical-align: middle;\n",
       "    }\n",
       "\n",
       "    .dataframe tbody tr th {\n",
       "        vertical-align: top;\n",
       "    }\n",
       "\n",
       "    .dataframe thead th {\n",
       "        text-align: right;\n",
       "    }\n",
       "</style>\n",
       "<table border=\"1\" class=\"dataframe\">\n",
       "  <thead>\n",
       "    <tr style=\"text-align: right;\">\n",
       "      <th></th>\n",
       "      <th>FID</th>\n",
       "      <th>Group_</th>\n",
       "      <th>Partner</th>\n",
       "      <th>Neighborhood</th>\n",
       "      <th>Council</th>\n",
       "      <th>IDNumber</th>\n",
       "      <th>SHAPE_Length</th>\n",
       "      <th>SHAPE_Area</th>\n",
       "    </tr>\n",
       "  </thead>\n",
       "  <tbody>\n",
       "    <tr>\n",
       "      <th>0</th>\n",
       "      <td>1</td>\n",
       "      <td>Heinz History Center</td>\n",
       "      <td>None</td>\n",
       "      <td>Strip District</td>\n",
       "      <td>7</td>\n",
       "      <td>1</td>\n",
       "      <td>1506.543864</td>\n",
       "      <td>96096.968552</td>\n",
       "    </tr>\n",
       "    <tr>\n",
       "      <th>1</th>\n",
       "      <td>2</td>\n",
       "      <td>Allegheny County Adult Probation</td>\n",
       "      <td>None</td>\n",
       "      <td>Arlington</td>\n",
       "      <td>3</td>\n",
       "      <td>2</td>\n",
       "      <td>1829.404709</td>\n",
       "      <td>24067.037087</td>\n",
       "    </tr>\n",
       "    <tr>\n",
       "      <th>2</th>\n",
       "      <td>3</td>\n",
       "      <td>West End Children's Center</td>\n",
       "      <td>None</td>\n",
       "      <td>Elliott</td>\n",
       "      <td>2</td>\n",
       "      <td>3</td>\n",
       "      <td>1671.511468</td>\n",
       "      <td>33866.780411</td>\n",
       "    </tr>\n",
       "    <tr>\n",
       "      <th>3</th>\n",
       "      <td>4</td>\n",
       "      <td>PA Resource Council</td>\n",
       "      <td>None</td>\n",
       "      <td>South Side Flats</td>\n",
       "      <td>3</td>\n",
       "      <td>4</td>\n",
       "      <td>1101.699628</td>\n",
       "      <td>71281.121826</td>\n",
       "    </tr>\n",
       "    <tr>\n",
       "      <th>4</th>\n",
       "      <td>6</td>\n",
       "      <td>Spring Hill Civic League</td>\n",
       "      <td>None</td>\n",
       "      <td>Spring Hill-City View</td>\n",
       "      <td>2</td>\n",
       "      <td>5</td>\n",
       "      <td>3923.923120</td>\n",
       "      <td>124124.679277</td>\n",
       "    </tr>\n",
       "  </tbody>\n",
       "</table>\n",
       "</div>"
      ],
      "text/plain": [
       "   FID                            Group_ Partner           Neighborhood  \\\n",
       "0    1              Heinz History Center    None         Strip District   \n",
       "1    2  Allegheny County Adult Probation    None              Arlington   \n",
       "2    3        West End Children's Center    None                Elliott   \n",
       "3    4               PA Resource Council    None       South Side Flats   \n",
       "4    6          Spring Hill Civic League    None  Spring Hill-City View   \n",
       "\n",
       "   Council  IDNumber  SHAPE_Length     SHAPE_Area  \n",
       "0        7         1   1506.543864   96096.968552  \n",
       "1        3         2   1829.404709   24067.037087  \n",
       "2        2         3   1671.511468   33866.780411  \n",
       "3        3         4   1101.699628   71281.121826  \n",
       "4        2         5   3923.923120  124124.679277  "
      ]
     },
     "execution_count": 9,
     "metadata": {},
     "output_type": "execute_result"
    }
   ],
   "source": [
    "litter_control= pd.read_csv(\"Pittsburgh_Beautify_The_Burgh.csv\")\n",
    "litter_control.head()"
   ]
  },
  {
   "cell_type": "markdown",
   "metadata": {},
   "source": [
    "## The Metric\n",
    "\n",
    "In our Smart Trash dataset, we chose to measure the best by how many smart trash containers are located in each neighborhood. The one with the most containers will be the worst and the one with the least number of containers will be the best.\n",
    "\n",
    "For our Illegal dumpsites dataset, we will measure it by the amount of illegally dumped trash in a neighborhood. The least amount of trash will be the worst and the most amount of dumped trash will be the best.\n",
    "\n",
    "With our Beautify The Burgh dataset, we want to identify the best by the neighborhood that has the least groups for litter control and the worst by the neighborhood with the most groups for litter control."
   ]
  },
  {
   "cell_type": "markdown",
   "metadata": {},
   "source": [
    "## The Best Neighborhood"
   ]
  },
  {
   "cell_type": "markdown",
   "metadata": {},
   "source": [
    "In the smart trash dataset, I took the neighborhood column and counted the value of each time a specific neighborhood was entered. Each smart trash container was entered into the dataset by the neighborhoods they are located in, so this dataset had many duplicate values in the neighborhood column."
   ]
  },
  {
   "cell_type": "code",
   "execution_count": 5,
   "metadata": {},
   "outputs": [
    {
     "data": {
      "text/plain": [
       "Shadyside              76\n",
       "East Liberty           68\n",
       "Squirrel Hill South    63\n",
       "Bloomfield             58\n",
       "North Shore            53\n",
       "                       ..\n",
       "Mt. Oliver              1\n",
       "East Carnegie           1\n",
       "Windgap                 1\n",
       "South Shore             1\n",
       "Swisshelm Park          1\n",
       "Name: neighborhood, Length: 79, dtype: int64"
      ]
     },
     "execution_count": 5,
     "metadata": {},
     "output_type": "execute_result"
    }
   ],
   "source": [
    "data = smart_trash['neighborhood'].value_counts()\n",
    "data"
   ]
  },
  {
   "cell_type": "markdown",
   "metadata": {},
   "source": [
    "Now that i know the exact number of smart trash cointainers in each neighborhood, i can tell that the worst neighborhood for our Noble Rat community to be is in Shadyside."
   ]
  },
  {
   "cell_type": "markdown",
   "metadata": {},
   "source": [
    "To find out the best (the neighborhood with the least smart trash containers), i looked at all the neighborhoods with just one smart trash container. The best neigborhood for us to be in is between Northview Heights, Oakwood, St.Clair, Bedford Dwellings, Mt. Oliver, East carnegie, Windgap, Souuth Shore, and Swisshelm Park."
   ]
  },
  {
   "cell_type": "code",
   "execution_count": 7,
   "metadata": {},
   "outputs": [
    {
     "data": {
      "text/plain": [
       "Point Breeze North    2\n",
       "Northview Heights     1\n",
       "Oakwood               1\n",
       "St. Clair             1\n",
       "Bedford Dwellings     1\n",
       "Mt. Oliver            1\n",
       "East Carnegie         1\n",
       "Windgap               1\n",
       "South Shore           1\n",
       "Swisshelm Park        1\n",
       "Name: neighborhood, dtype: int64"
      ]
     },
     "execution_count": 7,
     "metadata": {},
     "output_type": "execute_result"
    }
   ],
   "source": [
    "smart_trash['neighborhood'].value_counts().tail(10)"
   ]
  },
  {
   "cell_type": "markdown",
   "metadata": {},
   "source": [
    "I plotted the data so we can see it in a different perspective."
   ]
  },
  {
   "cell_type": "code",
   "execution_count": 12,
   "metadata": {},
   "outputs": [
    {
     "data": {
      "text/plain": [
       "<matplotlib.axes._subplots.AxesSubplot at 0x7f2059e3ea30>"
      ]
     },
     "execution_count": 12,
     "metadata": {},
     "output_type": "execute_result"
    },
    {
     "data": {
      "image/png": "[encoded data removed]",
      "text/plain": [
       "<Figure size 432x288 with 1 Axes>"
      ]
     },
     "metadata": {
      "needs_background": "light"
     },
     "output_type": "display_data"
    }
   ],
   "source": [
    "data.plot()"
   ]
  },
  {
   "cell_type": "markdown",
   "metadata": {},
   "source": [
    "In the Pittsburgh Beautify The Burgh dataset, I first filtered out the unnecessary columns, \n"
   ]
  },
  {
   "cell_type": "code",
   "execution_count": 10,
   "metadata": {},
   "outputs": [
    {
     "data": {
      "text/plain": [
       "<matplotlib.axes._subplots.AxesSubplot at 0x7fe4e4b371f0>"
      ]
     },
     "execution_count": 10,
     "metadata": {},
     "output_type": "execute_result"
    },
    {
     "data": {
      "image/png": "[encoded data removed]",
      "text/plain": [
       "<Figure size 720x720 with 1 Axes>"
      ]
     },
     "metadata": {
      "needs_background": "light"
     },
     "output_type": "display_data"
    }
   ],
   "source": [
    "litter_control.drop('Council', axis = 1, inplace = True)\n",
    "litter_control.drop('FID', axis = 1, inplace = True)\n",
    "litter_control.plot(figsize = (10,10))"
   ]
  },
  {
   "cell_type": "markdown",
   "metadata": {},
   "source": [
    "Then I analyzed using pandas which neighborhood had the most groups, and which one had the least groups for litter control"
   ]
  },
  {
   "cell_type": "code",
   "execution_count": 11,
   "metadata": {},
   "outputs": [
    {
     "name": "stdout",
     "output_type": "stream",
     "text": [
      "<class 'pandas.core.frame.DataFrame'>\n",
      "RangeIndex: 54 entries, 0 to 53\n",
      "Data columns (total 6 columns):\n",
      " #   Column        Non-Null Count  Dtype  \n",
      "---  ------        --------------  -----  \n",
      " 0   Group_        54 non-null     object \n",
      " 1   Partner       54 non-null     object \n",
      " 2   Neighborhood  54 non-null     object \n",
      " 3   IDNumber      54 non-null     int64  \n",
      " 4   SHAPE_Length  54 non-null     float64\n",
      " 5   SHAPE_Area    54 non-null     float64\n",
      "dtypes: float64(2), int64(1), object(3)\n",
      "memory usage: 2.7+ KB\n"
     ]
    }
   ],
   "source": [
    "litter_control.shape\n",
    "litter_control.info()"
   ]
  },
  {
   "cell_type": "code",
   "execution_count": 12,
   "metadata": {},
   "outputs": [
    {
     "data": {
      "text/plain": [
       "'Mount Washington'"
      ]
     },
     "execution_count": 12,
     "metadata": {},
     "output_type": "execute_result"
    }
   ],
   "source": [
    "litter_control['Neighborhood'].value_counts().idxmax()"
   ]
  },
  {
   "cell_type": "markdown",
   "metadata": {},
   "source": [
    "Hence, Mount Washington is the \"worst\" neighborhood in this dataset alone"
   ]
  },
  {
   "cell_type": "code",
   "execution_count": 13,
   "metadata": {},
   "outputs": [
    {
     "data": {
      "text/plain": [
       "Neighborhood\n",
       "Mount Washington             9\n",
       "Central Oakland              7\n",
       "South Oakland                6\n",
       "North Oakland                5\n",
       "North Point Breeze           3\n",
       "West Oakland                 2\n",
       "Strip District               2\n",
       "Carrick                      2\n",
       "Allentown                    2\n",
       "Spring Hill-City View        1\n",
       "South Side Flats             1\n",
       "Sheraden                     1\n",
       "Shadyside                    1\n",
       "Point Breeze                 1\n",
       "Allegheny West               1\n",
       "Lower Lawrenceville          1\n",
       "Hazelwood                    1\n",
       "Greenfield                   1\n",
       "Elliott                      1\n",
       "East Liberty                 1\n",
       "Central Business District    1\n",
       "Bluff/Uptown                 1\n",
       "Beltzhoover                  1\n",
       "Arlington                    1\n",
       "Homewood South               1\n",
       "dtype: int64"
      ]
     },
     "execution_count": 13,
     "metadata": {},
     "output_type": "execute_result"
    }
   ],
   "source": [
    "litter_control.value_counts('Neighborhood')"
   ]
  },
  {
   "cell_type": "markdown",
   "metadata": {},
   "source": [
    "The \"best\" neighborhood(s) in this dataset are all the neighborhoods that have only 1 litter control group, ......."
   ]
  },
  {
   "cell_type": "code",
   "execution_count": 15,
   "metadata": {},
   "outputs": [
    {
     "data": {
      "text/plain": [
       "0     False\n",
       "1     False\n",
       "2     False\n",
       "3     False\n",
       "4     False\n",
       "5     False\n",
       "6     False\n",
       "7     False\n",
       "8     False\n",
       "9     False\n",
       "10    False\n",
       "11    False\n",
       "12    False\n",
       "13    False\n",
       "14    False\n",
       "15    False\n",
       "16    False\n",
       "17    False\n",
       "18    False\n",
       "19    False\n",
       "20    False\n",
       "21    False\n",
       "22    False\n",
       "23    False\n",
       "24    False\n",
       "25     True\n",
       "26    False\n",
       "27    False\n",
       "28    False\n",
       "29    False\n",
       "30    False\n",
       "31    False\n",
       "32    False\n",
       "33    False\n",
       "34    False\n",
       "35    False\n",
       "36    False\n",
       "37    False\n",
       "38    False\n",
       "39    False\n",
       "40    False\n",
       "41    False\n",
       "42    False\n",
       "43    False\n",
       "44    False\n",
       "45    False\n",
       "46    False\n",
       "47    False\n",
       "48    False\n",
       "49    False\n",
       "50    False\n",
       "51    False\n",
       "52    False\n",
       "53    False\n",
       "Name: Neighborhood, dtype: bool"
      ]
     },
     "execution_count": 15,
     "metadata": {},
     "output_type": "execute_result"
    }
   ],
   "source": [
    "query_mask = litter_control['Neighborhood']==\"Beltzhoover\"\n",
    "query_mask"
   ]
  },
  {
   "cell_type": "code",
   "execution_count": 16,
   "metadata": {},
   "outputs": [
    {
     "data": {
      "text/plain": [
       "Group_          St. Paul AME Beltzhoover\n",
       "Partner                             None\n",
       "Neighborhood                 Beltzhoover\n",
       "IDNumber                              26\n",
       "SHAPE_Length                 1639.648261\n",
       "SHAPE_Area                  95490.078141\n",
       "Name: 25, dtype: object"
      ]
     },
     "execution_count": 16,
     "metadata": {},
     "output_type": "execute_result"
    }
   ],
   "source": [
    "litter_control.iloc[25]\n"
   ]
  },
  {
   "cell_type": "markdown",
   "metadata": {},
   "source": [
    "Using the JSON file in the beautify the burgh dataset to print a visual of the neighborhoods covered by the groups"
   ]
  },
  {
   "cell_type": "code",
   "execution_count": 18,
   "metadata": {},
   "outputs": [
    {
     "data": {
      "text/plain": [
       "<matplotlib.axes._subplots.AxesSubplot at 0x7faf88e9a7f0>"
      ]
     },
     "execution_count": 18,
     "metadata": {},
     "output_type": "execute_result"
    },
    {
     "data": {
      "image/png": "[encoded data removed]",
      "text/plain": [
       "<Figure size 1440x1440 with 1 Axes>"
      ]
     },
     "metadata": {
      "needs_background": "light"
     },
     "output_type": "display_data"
    }
   ],
   "source": [
    "import json\n",
    "import geopandas as gpd\n",
    "%matplotlib inline\n",
    "data = gpd.read_file(\"Pittsburgh_Beautify_The_Burgh.geojson\")\n",
    "data.plot(figsize=(20,20))"
   ]
  },
  {
   "cell_type": "markdown",
   "metadata": {},
   "source": [
    "In the illegal dumpsites dataset started by getting rid of the location descriptions since they aren't relevant to the amount of trash dumped. "
   ]
  },
  {
   "cell_type": "code",
   "execution_count": 18,
   "metadata": {},
   "outputs": [],
   "source": [
    "illegaldumpsites.drop('location_description', axis =1, inplace = True)"
   ]
  },
  {
   "cell_type": "code",
   "execution_count": 19,
   "metadata": {},
   "outputs": [
    {
     "data": {
      "text/html": [
       "<div>\n",
       "<style scoped>\n",
       "    .dataframe tbody tr th:only-of-type {\n",
       "        vertical-align: middle;\n",
       "    }\n",
       "\n",
       "    .dataframe tbody tr th {\n",
       "        vertical-align: top;\n",
       "    }\n",
       "\n",
       "    .dataframe thead th {\n",
       "        text-align: right;\n",
       "    }\n",
       "</style>\n",
       "<table border=\"1\" class=\"dataframe\">\n",
       "  <thead>\n",
       "    <tr style=\"text-align: right;\">\n",
       "      <th></th>\n",
       "      <th>site_name</th>\n",
       "      <th>Status</th>\n",
       "      <th>City</th>\n",
       "      <th>Neighborhood</th>\n",
       "      <th>estimated_tons</th>\n",
       "      <th>latitude</th>\n",
       "      <th>longitude</th>\n",
       "      <th>Unnamed: 8</th>\n",
       "    </tr>\n",
       "  </thead>\n",
       "  <tbody>\n",
       "    <tr>\n",
       "      <th>0</th>\n",
       "      <td>St. Martin Street</td>\n",
       "      <td>Surveyed</td>\n",
       "      <td>Pittsburgh</td>\n",
       "      <td>Allentown</td>\n",
       "      <td>0.5</td>\n",
       "      <td>40.42221971</td>\n",
       "      <td>-79.99022525</td>\n",
       "      <td>NaN</td>\n",
       "    </tr>\n",
       "    <tr>\n",
       "      <th>1</th>\n",
       "      <td>Brosville Street</td>\n",
       "      <td>Surveyed</td>\n",
       "      <td>Pittsburgh</td>\n",
       "      <td>Allentown</td>\n",
       "      <td>3</td>\n",
       "      <td>40.42370101</td>\n",
       "      <td>-79.98657393</td>\n",
       "      <td>NaN</td>\n",
       "    </tr>\n",
       "    <tr>\n",
       "      <th>2</th>\n",
       "      <td>McCain Street</td>\n",
       "      <td>Surveyed</td>\n",
       "      <td>Pittsburgh</td>\n",
       "      <td>Allentown</td>\n",
       "      <td>1</td>\n",
       "      <td>40.42427063</td>\n",
       "      <td>-79.99022675</td>\n",
       "      <td>NaN</td>\n",
       "    </tr>\n",
       "    <tr>\n",
       "      <th>3</th>\n",
       "      <td>Ceres Way</td>\n",
       "      <td>Surveyed</td>\n",
       "      <td>Pittsburgh</td>\n",
       "      <td>Allentown</td>\n",
       "      <td>0.5</td>\n",
       "      <td>40.42327242</td>\n",
       "      <td>-79.99248958</td>\n",
       "      <td>NaN</td>\n",
       "    </tr>\n",
       "    <tr>\n",
       "      <th>4</th>\n",
       "      <td>Eureka Street</td>\n",
       "      <td>Completed</td>\n",
       "      <td>Pittsburgh</td>\n",
       "      <td>Allentown</td>\n",
       "      <td>0.1</td>\n",
       "      <td>40.42372131</td>\n",
       "      <td>-79.99478912</td>\n",
       "      <td>NaN</td>\n",
       "    </tr>\n",
       "  </tbody>\n",
       "</table>\n",
       "</div>"
      ],
      "text/plain": [
       "           site_name     Status        City Neighborhood estimated_tons  \\\n",
       "0  St. Martin Street   Surveyed  Pittsburgh    Allentown            0.5   \n",
       "1   Brosville Street   Surveyed  Pittsburgh    Allentown              3   \n",
       "2      McCain Street   Surveyed  Pittsburgh    Allentown              1   \n",
       "3          Ceres Way   Surveyed  Pittsburgh    Allentown            0.5   \n",
       "4      Eureka Street  Completed  Pittsburgh    Allentown            0.1   \n",
       "\n",
       "      latitude     longitude  Unnamed: 8  \n",
       "0  40.42221971  -79.99022525         NaN  \n",
       "1  40.42370101  -79.98657393         NaN  \n",
       "2  40.42427063  -79.99022675         NaN  \n",
       "3  40.42327242  -79.99248958         NaN  \n",
       "4  40.42372131  -79.99478912         NaN  "
      ]
     },
     "execution_count": 19,
     "metadata": {},
     "output_type": "execute_result"
    }
   ],
   "source": [
    "illegaldumpsites.head()"
   ]
  },
  {
   "cell_type": "markdown",
   "metadata": {},
   "source": [
    "I used the \"estimated tons\" values to calculate the total of trash per neighborhood. Before performing operations, the data had to be usable. I used the \"dropna\" within the \"estimated tons\" subset to get rid of any null values in the \"estimated tons\" column."
   ]
  },
  {
   "cell_type": "code",
   "execution_count": 20,
   "metadata": {},
   "outputs": [],
   "source": [
    "sites_with_tons = illegaldumpsites.dropna(subset = ['estimated_tons'])"
   ]
  },
  {
   "cell_type": "markdown",
   "metadata": {},
   "source": [
    "Since the data set includes some data from cities other than Pittsburgh, i used a query mask to filter these data points out so that i would be left with only the Pittsburgh data."
   ]
  },
  {
   "cell_type": "code",
   "execution_count": 21,
   "metadata": {},
   "outputs": [
    {
     "data": {
      "text/html": [
       "<div>\n",
       "<style scoped>\n",
       "    .dataframe tbody tr th:only-of-type {\n",
       "        vertical-align: middle;\n",
       "    }\n",
       "\n",
       "    .dataframe tbody tr th {\n",
       "        vertical-align: top;\n",
       "    }\n",
       "\n",
       "    .dataframe thead th {\n",
       "        text-align: right;\n",
       "    }\n",
       "</style>\n",
       "<table border=\"1\" class=\"dataframe\">\n",
       "  <thead>\n",
       "    <tr style=\"text-align: right;\">\n",
       "      <th></th>\n",
       "      <th>site_name</th>\n",
       "      <th>Status</th>\n",
       "      <th>City</th>\n",
       "      <th>Neighborhood</th>\n",
       "      <th>estimated_tons</th>\n",
       "      <th>latitude</th>\n",
       "      <th>longitude</th>\n",
       "      <th>Unnamed: 8</th>\n",
       "    </tr>\n",
       "  </thead>\n",
       "  <tbody>\n",
       "    <tr>\n",
       "      <th>0</th>\n",
       "      <td>St. Martin Street</td>\n",
       "      <td>Surveyed</td>\n",
       "      <td>Pittsburgh</td>\n",
       "      <td>Allentown</td>\n",
       "      <td>0.5</td>\n",
       "      <td>40.42221971</td>\n",
       "      <td>-79.99022525</td>\n",
       "      <td>NaN</td>\n",
       "    </tr>\n",
       "    <tr>\n",
       "      <th>1</th>\n",
       "      <td>Brosville Street</td>\n",
       "      <td>Surveyed</td>\n",
       "      <td>Pittsburgh</td>\n",
       "      <td>Allentown</td>\n",
       "      <td>3</td>\n",
       "      <td>40.42370101</td>\n",
       "      <td>-79.98657393</td>\n",
       "      <td>NaN</td>\n",
       "    </tr>\n",
       "    <tr>\n",
       "      <th>2</th>\n",
       "      <td>McCain Street</td>\n",
       "      <td>Surveyed</td>\n",
       "      <td>Pittsburgh</td>\n",
       "      <td>Allentown</td>\n",
       "      <td>1</td>\n",
       "      <td>40.42427063</td>\n",
       "      <td>-79.99022675</td>\n",
       "      <td>NaN</td>\n",
       "    </tr>\n",
       "    <tr>\n",
       "      <th>3</th>\n",
       "      <td>Ceres Way</td>\n",
       "      <td>Surveyed</td>\n",
       "      <td>Pittsburgh</td>\n",
       "      <td>Allentown</td>\n",
       "      <td>0.5</td>\n",
       "      <td>40.42327242</td>\n",
       "      <td>-79.99248958</td>\n",
       "      <td>NaN</td>\n",
       "    </tr>\n",
       "    <tr>\n",
       "      <th>4</th>\n",
       "      <td>Eureka Street</td>\n",
       "      <td>Completed</td>\n",
       "      <td>Pittsburgh</td>\n",
       "      <td>Allentown</td>\n",
       "      <td>0.1</td>\n",
       "      <td>40.42372131</td>\n",
       "      <td>-79.99478912</td>\n",
       "      <td>NaN</td>\n",
       "    </tr>\n",
       "  </tbody>\n",
       "</table>\n",
       "</div>"
      ],
      "text/plain": [
       "           site_name     Status        City Neighborhood estimated_tons  \\\n",
       "0  St. Martin Street   Surveyed  Pittsburgh    Allentown            0.5   \n",
       "1   Brosville Street   Surveyed  Pittsburgh    Allentown              3   \n",
       "2      McCain Street   Surveyed  Pittsburgh    Allentown              1   \n",
       "3          Ceres Way   Surveyed  Pittsburgh    Allentown            0.5   \n",
       "4      Eureka Street  Completed  Pittsburgh    Allentown            0.1   \n",
       "\n",
       "      latitude     longitude  Unnamed: 8  \n",
       "0  40.42221971  -79.99022525         NaN  \n",
       "1  40.42370101  -79.98657393         NaN  \n",
       "2  40.42427063  -79.99022675         NaN  \n",
       "3  40.42327242  -79.99248958         NaN  \n",
       "4  40.42372131  -79.99478912         NaN  "
      ]
     },
     "execution_count": 21,
     "metadata": {},
     "output_type": "execute_result"
    }
   ],
   "source": [
    "query_mask = sites_with_tons['City'] == 'Pittsburgh'\n",
    "pittsburgh = sites_with_tons[query_mask]\n",
    "pittsburgh.head()"
   ]
  },
  {
   "cell_type": "markdown",
   "metadata": {},
   "source": [
    "I made a copy of the pittsburgh data slice so that I could make changes to the data. "
   ]
  },
  {
   "cell_type": "code",
   "execution_count": 22,
   "metadata": {},
   "outputs": [],
   "source": [
    "copy_pittsburgh = pittsburgh.copy()"
   ]
  },
  {
   "cell_type": "markdown",
   "metadata": {},
   "source": [
    "Since the estimated tons values are strings, I converted them to numeric values using .to_numeric(). Now, I can perform numerical operations on the data."
   ]
  },
  {
   "cell_type": "code",
   "execution_count": 23,
   "metadata": {},
   "outputs": [],
   "source": [
    "copy_pittsburgh[\"estimated_tons\"] = copy_pittsburgh[\"estimated_tons\"].apply(pd.to_numeric)"
   ]
  },
  {
   "cell_type": "markdown",
   "metadata": {},
   "source": [
    "To find the total of tons of trash, I used the groupby and sum functions. With the groupby, I can find the sum of estimated tons per neighborhood. "
   ]
  },
  {
   "cell_type": "code",
   "execution_count": 25,
   "metadata": {},
   "outputs": [
    {
     "data": {
      "text/html": [
       "<div>\n",
       "<style scoped>\n",
       "    .dataframe tbody tr th:only-of-type {\n",
       "        vertical-align: middle;\n",
       "    }\n",
       "\n",
       "    .dataframe tbody tr th {\n",
       "        vertical-align: top;\n",
       "    }\n",
       "\n",
       "    .dataframe thead th {\n",
       "        text-align: right;\n",
       "    }\n",
       "</style>\n",
       "<table border=\"1\" class=\"dataframe\">\n",
       "  <thead>\n",
       "    <tr style=\"text-align: right;\">\n",
       "      <th></th>\n",
       "      <th>estimated_tons</th>\n",
       "      <th>Unnamed: 8</th>\n",
       "    </tr>\n",
       "    <tr>\n",
       "      <th>Neighborhood</th>\n",
       "      <th></th>\n",
       "      <th></th>\n",
       "    </tr>\n",
       "  </thead>\n",
       "  <tbody>\n",
       "    <tr>\n",
       "      <th>Allentown</th>\n",
       "      <td>10.4</td>\n",
       "      <td>0.0</td>\n",
       "    </tr>\n",
       "    <tr>\n",
       "      <th>Arlington</th>\n",
       "      <td>17.5</td>\n",
       "      <td>0.0</td>\n",
       "    </tr>\n",
       "    <tr>\n",
       "      <th>Banksville</th>\n",
       "      <td>1.0</td>\n",
       "      <td>0.0</td>\n",
       "    </tr>\n",
       "    <tr>\n",
       "      <th>Bedford Dwellings</th>\n",
       "      <td>1.0</td>\n",
       "      <td>0.0</td>\n",
       "    </tr>\n",
       "    <tr>\n",
       "      <th>Beechview</th>\n",
       "      <td>11.0</td>\n",
       "      <td>0.0</td>\n",
       "    </tr>\n",
       "  </tbody>\n",
       "</table>\n",
       "</div>"
      ],
      "text/plain": [
       "                   estimated_tons  Unnamed: 8\n",
       "Neighborhood                                 \n",
       "Allentown                    10.4         0.0\n",
       "Arlington                    17.5         0.0\n",
       "Banksville                    1.0         0.0\n",
       "Bedford Dwellings             1.0         0.0\n",
       "Beechview                    11.0         0.0"
      ]
     },
     "execution_count": 25,
     "metadata": {},
     "output_type": "execute_result"
    }
   ],
   "source": [
    "neighborhood_totals = copy_pittsburgh.groupby('Neighborhood').sum()\n",
    "neighborhood_totals.head()"
   ]
  },
  {
   "cell_type": "markdown",
   "metadata": {},
   "source": [
    "It is clear that Beltzhoover has the most illegally dumped trash by far."
   ]
  },
  {
   "cell_type": "code",
   "execution_count": 27,
   "metadata": {},
   "outputs": [
    {
     "data": {
      "text/plain": [
       "<matplotlib.axes._subplots.AxesSubplot at 0x7fe4e3e3f2b0>"
      ]
     },
     "execution_count": 27,
     "metadata": {},
     "output_type": "execute_result"
    },
    {
     "data": {
      "image/png": "[encoded data removed]",
      "text/plain": [
       "<Figure size 1224x504 with 1 Axes>"
      ]
     },
     "metadata": {
      "needs_background": "light"
     },
     "output_type": "display_data"
    }
   ],
   "source": [
    "neighborhood_totals.plot.bar(figsize = (17,7), width = 1, color = 'olive' )"
   ]
  },
  {
   "cell_type": "markdown",
   "metadata": {},
   "source": [
    "I also decided to look at how many entries Beltzhoover has to see if it was a frequently reported neighborhood. I ran the count function to get the amount of entries per neighborhood."
   ]
  },
  {
   "cell_type": "code",
   "execution_count": 28,
   "metadata": {},
   "outputs": [
    {
     "data": {
      "text/html": [
       "<div>\n",
       "<style scoped>\n",
       "    .dataframe tbody tr th:only-of-type {\n",
       "        vertical-align: middle;\n",
       "    }\n",
       "\n",
       "    .dataframe tbody tr th {\n",
       "        vertical-align: top;\n",
       "    }\n",
       "\n",
       "    .dataframe thead th {\n",
       "        text-align: right;\n",
       "    }\n",
       "</style>\n",
       "<table border=\"1\" class=\"dataframe\">\n",
       "  <thead>\n",
       "    <tr style=\"text-align: right;\">\n",
       "      <th></th>\n",
       "      <th>site_name</th>\n",
       "      <th>Status</th>\n",
       "      <th>City</th>\n",
       "      <th>estimated_tons</th>\n",
       "      <th>latitude</th>\n",
       "      <th>longitude</th>\n",
       "      <th>Unnamed: 8</th>\n",
       "    </tr>\n",
       "    <tr>\n",
       "      <th>Neighborhood</th>\n",
       "      <th></th>\n",
       "      <th></th>\n",
       "      <th></th>\n",
       "      <th></th>\n",
       "      <th></th>\n",
       "      <th></th>\n",
       "      <th></th>\n",
       "    </tr>\n",
       "  </thead>\n",
       "  <tbody>\n",
       "    <tr>\n",
       "      <th>Allentown</th>\n",
       "      <td>7</td>\n",
       "      <td>7</td>\n",
       "      <td>7</td>\n",
       "      <td>7</td>\n",
       "      <td>7</td>\n",
       "      <td>7</td>\n",
       "      <td>0</td>\n",
       "    </tr>\n",
       "    <tr>\n",
       "      <th>Arlington</th>\n",
       "      <td>9</td>\n",
       "      <td>9</td>\n",
       "      <td>9</td>\n",
       "      <td>9</td>\n",
       "      <td>9</td>\n",
       "      <td>9</td>\n",
       "      <td>0</td>\n",
       "    </tr>\n",
       "    <tr>\n",
       "      <th>Banksville</th>\n",
       "      <td>1</td>\n",
       "      <td>1</td>\n",
       "      <td>1</td>\n",
       "      <td>1</td>\n",
       "      <td>1</td>\n",
       "      <td>1</td>\n",
       "      <td>0</td>\n",
       "    </tr>\n",
       "    <tr>\n",
       "      <th>Bedford Dwellings</th>\n",
       "      <td>1</td>\n",
       "      <td>1</td>\n",
       "      <td>1</td>\n",
       "      <td>1</td>\n",
       "      <td>1</td>\n",
       "      <td>1</td>\n",
       "      <td>0</td>\n",
       "    </tr>\n",
       "    <tr>\n",
       "      <th>Beechview</th>\n",
       "      <td>8</td>\n",
       "      <td>8</td>\n",
       "      <td>8</td>\n",
       "      <td>8</td>\n",
       "      <td>7</td>\n",
       "      <td>7</td>\n",
       "      <td>0</td>\n",
       "    </tr>\n",
       "  </tbody>\n",
       "</table>\n",
       "</div>"
      ],
      "text/plain": [
       "                   site_name  Status  City  estimated_tons  latitude  \\\n",
       "Neighborhood                                                           \n",
       "Allentown                  7       7     7               7         7   \n",
       "Arlington                  9       9     9               9         9   \n",
       "Banksville                 1       1     1               1         1   \n",
       "Bedford Dwellings          1       1     1               1         1   \n",
       "Beechview                  8       8     8               8         7   \n",
       "\n",
       "                   longitude  Unnamed: 8  \n",
       "Neighborhood                              \n",
       "Allentown                  7           0  \n",
       "Arlington                  9           0  \n",
       "Banksville                 1           0  \n",
       "Bedford Dwellings          1           0  \n",
       "Beechview                  7           0  "
      ]
     },
     "execution_count": 28,
     "metadata": {},
     "output_type": "execute_result"
    }
   ],
   "source": [
    "collection_counts = copy_pittsburgh.groupby(\"Neighborhood\").count()\n",
    "collection_counts.head()"
   ]
  },
  {
   "cell_type": "markdown",
   "metadata": {},
   "source": [
    "Then, I used \"loc\" to find the amount of entries Beltzhoover has in estimated tons."
   ]
  },
  {
   "cell_type": "code",
   "execution_count": 29,
   "metadata": {},
   "outputs": [
    {
     "data": {
      "text/plain": [
       "36"
      ]
     },
     "execution_count": 29,
     "metadata": {},
     "output_type": "execute_result"
    }
   ],
   "source": [
    "collection_counts.loc[\"Beltzhoover\", \"estimated_tons\"]"
   ]
  },
  {
   "cell_type": "markdown",
   "metadata": {},
   "source": [
    "Then, I ran the mean function to see the average of estimated tons entries. With 36 entries, Beltzhoover was above average by over 25."
   ]
  },
  {
   "cell_type": "code",
   "execution_count": 30,
   "metadata": {},
   "outputs": [
    {
     "data": {
      "text/plain": [
       "site_name         7.844156\n",
       "Status            7.844156\n",
       "City              7.844156\n",
       "estimated_tons    7.844156\n",
       "latitude          7.818182\n",
       "longitude         7.818182\n",
       "Unnamed: 8        0.000000\n",
       "dtype: float64"
      ]
     },
     "execution_count": 30,
     "metadata": {},
     "output_type": "execute_result"
    }
   ],
   "source": [
    "collection_counts.mean()"
   ]
  },
  {
   "cell_type": "markdown",
   "metadata": {},
   "source": [
    "## Conclusion"
   ]
  },
  {
   "cell_type": "markdown",
   "metadata": {},
   "source": [
    "As the Noble Rats of the city of pittsburgh, we have determined that the best neighborhood is Beltzhoover. It was chosen as a candidate in two out of our three datasets and in the third dataset it was fairly close to the stinkiests."
   ]
  },
  {
   "cell_type": "markdown",
   "metadata": {},
   "source": [
    "**Mofe's Conclusion**\n",
    "\n",
    "My personal favorite neigborhood is Oakland because its the only one i know. My favorite neighborhood is different from the one the data showed because why would i want to live in a stinky neighborhood."
   ]
  },
  {
   "cell_type": "markdown",
   "metadata": {},
   "source": [
    "**Linda's Conclusion**\n",
    "\n",
    "Although i've never been to Beltzhoover, it's clear to me that its the stinkiest neighborhood in Pittsburgh. I'm not from Pittsburgh, so I can only trust the data on this issue. I've only really spent time in Oakland and Shadyside, and neither were particulary stinky to me. Then again, i've never had the best sense of smell. In terms of Beltzhoover, i'll rely on the numbers until i get to smell it for myself."
   ]
  },
  {
   "cell_type": "markdown",
   "metadata": {},
   "source": [
    "**Greta's Conclusion**\n",
    "\n",
    "In conclusion, I would generally agree that Beltzhoover is the stinkiest neighborhood. The beautify the burgh dataset that I worked with is not enough on its own to prove this. However, when combined with the data from the illegal dump sites, together they give a decent proof that Beltzhoover is far dirtier than a lot of the other neighborhoods.\n",
    "\n",
    "My favorite neighborhood is Lawenceville because it is so walkable, and there are so many unique things to vist. It is close to several parks and trails, which is great for me because I love hiking."
   ]
  },
  {
   "cell_type": "code",
   "execution_count": null,
   "metadata": {},
   "outputs": [],
   "source": []
  }
 ],
 "metadata": {
  "kernelspec": {
   "display_name": "Python 3",
   "language": "python",
   "name": "python3"
  },
  "language_info": {
   "codemirror_mode": {
    "name": "ipython",
    "version": 3
   },
   "file_extension": ".py",
   "mimetype": "text/x-python",
   "name": "python",
   "nbconvert_exporter": "python",
   "pygments_lexer": "ipython3",
   "version": "3.8.3"
  }
 },
 "nbformat": 4,
 "nbformat_minor": 4
}
