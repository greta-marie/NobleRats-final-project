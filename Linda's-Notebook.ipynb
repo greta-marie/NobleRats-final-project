{
 "cells": [
  {
   "cell_type": "code",
   "execution_count": 2,
   "metadata": {},
   "outputs": [],
   "source": [
    "import pandas as pd\n",
    "import numpy as np\n",
    "%matplotlib inline\n",
    "import matplotlib.pyplot as plt\n",
    "import geopandas as geo"
   ]
  },
  {
   "cell_type": "code",
   "execution_count": 3,
   "metadata": {},
   "outputs": [
    {
     "data": {
      "text/html": [
       "<div>\n",
       "<style scoped>\n",
       "    .dataframe tbody tr th:only-of-type {\n",
       "        vertical-align: middle;\n",
       "    }\n",
       "\n",
       "    .dataframe tbody tr th {\n",
       "        vertical-align: top;\n",
       "    }\n",
       "\n",
       "    .dataframe thead th {\n",
       "        text-align: right;\n",
       "    }\n",
       "</style>\n",
       "<table border=\"1\" class=\"dataframe\">\n",
       "  <thead>\n",
       "    <tr style=\"text-align: right;\">\n",
       "      <th></th>\n",
       "      <th>site_name</th>\n",
       "      <th>Status</th>\n",
       "      <th>City</th>\n",
       "      <th>Neighborhood</th>\n",
       "      <th>estimated_tons</th>\n",
       "      <th>location_description</th>\n",
       "      <th>latitude</th>\n",
       "      <th>longitude</th>\n",
       "      <th>Unnamed: 8</th>\n",
       "    </tr>\n",
       "  </thead>\n",
       "  <tbody>\n",
       "    <tr>\n",
       "      <th>0</th>\n",
       "      <td>St. Martin Street</td>\n",
       "      <td>Surveyed</td>\n",
       "      <td>Pittsburgh</td>\n",
       "      <td>Allentown</td>\n",
       "      <td>0.5</td>\n",
       "      <td>NaN</td>\n",
       "      <td>40.42221971</td>\n",
       "      <td>-79.99022525</td>\n",
       "      <td>NaN</td>\n",
       "    </tr>\n",
       "    <tr>\n",
       "      <th>1</th>\n",
       "      <td>Brosville Street</td>\n",
       "      <td>Surveyed</td>\n",
       "      <td>Pittsburgh</td>\n",
       "      <td>Allentown</td>\n",
       "      <td>3</td>\n",
       "      <td>NaN</td>\n",
       "      <td>40.42370101</td>\n",
       "      <td>-79.98657393</td>\n",
       "      <td>NaN</td>\n",
       "    </tr>\n",
       "    <tr>\n",
       "      <th>2</th>\n",
       "      <td>McCain Street</td>\n",
       "      <td>Surveyed</td>\n",
       "      <td>Pittsburgh</td>\n",
       "      <td>Allentown</td>\n",
       "      <td>1</td>\n",
       "      <td>NaN</td>\n",
       "      <td>40.42427063</td>\n",
       "      <td>-79.99022675</td>\n",
       "      <td>NaN</td>\n",
       "    </tr>\n",
       "    <tr>\n",
       "      <th>3</th>\n",
       "      <td>Ceres Way</td>\n",
       "      <td>Surveyed</td>\n",
       "      <td>Pittsburgh</td>\n",
       "      <td>Allentown</td>\n",
       "      <td>0.5</td>\n",
       "      <td>NaN</td>\n",
       "      <td>40.42327242</td>\n",
       "      <td>-79.99248958</td>\n",
       "      <td>NaN</td>\n",
       "    </tr>\n",
       "    <tr>\n",
       "      <th>4</th>\n",
       "      <td>Eureka Street</td>\n",
       "      <td>Completed</td>\n",
       "      <td>Pittsburgh</td>\n",
       "      <td>Allentown</td>\n",
       "      <td>0.1</td>\n",
       "      <td>NaN</td>\n",
       "      <td>40.42372131</td>\n",
       "      <td>-79.99478912</td>\n",
       "      <td>NaN</td>\n",
       "    </tr>\n",
       "  </tbody>\n",
       "</table>\n",
       "</div>"
      ],
      "text/plain": [
       "           site_name     Status        City Neighborhood estimated_tons  \\\n",
       "0  St. Martin Street   Surveyed  Pittsburgh    Allentown            0.5   \n",
       "1   Brosville Street   Surveyed  Pittsburgh    Allentown              3   \n",
       "2      McCain Street   Surveyed  Pittsburgh    Allentown              1   \n",
       "3          Ceres Way   Surveyed  Pittsburgh    Allentown            0.5   \n",
       "4      Eureka Street  Completed  Pittsburgh    Allentown            0.1   \n",
       "\n",
       "  location_description     latitude     longitude  Unnamed: 8  \n",
       "0                  NaN  40.42221971  -79.99022525         NaN  \n",
       "1                  NaN  40.42370101  -79.98657393         NaN  \n",
       "2                  NaN  40.42427063  -79.99022675         NaN  \n",
       "3                  NaN  40.42327242  -79.99248958         NaN  \n",
       "4                  NaN  40.42372131  -79.99478912         NaN  "
      ]
     },
     "execution_count": 3,
     "metadata": {},
     "output_type": "execute_result"
    }
   ],
   "source": [
    "illegaldumpsites = pd.read_csv(\"illegaldumpsites.csv\")\n",
    "illegaldumpsites.head()"
   ]
  },
  {
   "cell_type": "markdown",
   "metadata": {},
   "source": [
    "We'll use this data set to find information on the illegal dumping of trash in different pittsburgh neighborhoods."
   ]
  },
  {
   "cell_type": "markdown",
   "metadata": {},
   "source": [
    "I first used the \"drop\" function to get rid of the location descriptions since they have no relevance to the amount of trash in a neighborhood. "
   ]
  },
  {
   "cell_type": "code",
   "execution_count": 4,
   "metadata": {},
   "outputs": [],
   "source": [
    "#use drop with 'location_description' to get rid of this column\n",
    "illegaldumpsites.drop('location_description', axis=1, inplace=True)"
   ]
  },
  {
   "cell_type": "markdown",
   "metadata": {},
   "source": [
    "Then, I had to get rid of all the rows with null values in the estimated tons column so i was left with the rows with usable values. The dropna function drops any rows with null values so I specified that I was working with the subset of estimated tons so that it doesn't just delete rows with null values anywhere."
   ]
  },
  {
   "cell_type": "code",
   "execution_count": 5,
   "metadata": {},
   "outputs": [
    {
     "data": {
      "text/html": [
       "<div>\n",
       "<style scoped>\n",
       "    .dataframe tbody tr th:only-of-type {\n",
       "        vertical-align: middle;\n",
       "    }\n",
       "\n",
       "    .dataframe tbody tr th {\n",
       "        vertical-align: top;\n",
       "    }\n",
       "\n",
       "    .dataframe thead th {\n",
       "        text-align: right;\n",
       "    }\n",
       "</style>\n",
       "<table border=\"1\" class=\"dataframe\">\n",
       "  <thead>\n",
       "    <tr style=\"text-align: right;\">\n",
       "      <th></th>\n",
       "      <th>site_name</th>\n",
       "      <th>Status</th>\n",
       "      <th>City</th>\n",
       "      <th>Neighborhood</th>\n",
       "      <th>estimated_tons</th>\n",
       "      <th>latitude</th>\n",
       "      <th>longitude</th>\n",
       "      <th>Unnamed: 8</th>\n",
       "    </tr>\n",
       "  </thead>\n",
       "  <tbody>\n",
       "    <tr>\n",
       "      <th>0</th>\n",
       "      <td>St. Martin Street</td>\n",
       "      <td>Surveyed</td>\n",
       "      <td>Pittsburgh</td>\n",
       "      <td>Allentown</td>\n",
       "      <td>0.5</td>\n",
       "      <td>40.42221971</td>\n",
       "      <td>-79.99022525</td>\n",
       "      <td>NaN</td>\n",
       "    </tr>\n",
       "    <tr>\n",
       "      <th>1</th>\n",
       "      <td>Brosville Street</td>\n",
       "      <td>Surveyed</td>\n",
       "      <td>Pittsburgh</td>\n",
       "      <td>Allentown</td>\n",
       "      <td>3</td>\n",
       "      <td>40.42370101</td>\n",
       "      <td>-79.98657393</td>\n",
       "      <td>NaN</td>\n",
       "    </tr>\n",
       "    <tr>\n",
       "      <th>2</th>\n",
       "      <td>McCain Street</td>\n",
       "      <td>Surveyed</td>\n",
       "      <td>Pittsburgh</td>\n",
       "      <td>Allentown</td>\n",
       "      <td>1</td>\n",
       "      <td>40.42427063</td>\n",
       "      <td>-79.99022675</td>\n",
       "      <td>NaN</td>\n",
       "    </tr>\n",
       "    <tr>\n",
       "      <th>3</th>\n",
       "      <td>Ceres Way</td>\n",
       "      <td>Surveyed</td>\n",
       "      <td>Pittsburgh</td>\n",
       "      <td>Allentown</td>\n",
       "      <td>0.5</td>\n",
       "      <td>40.42327242</td>\n",
       "      <td>-79.99248958</td>\n",
       "      <td>NaN</td>\n",
       "    </tr>\n",
       "    <tr>\n",
       "      <th>4</th>\n",
       "      <td>Eureka Street</td>\n",
       "      <td>Completed</td>\n",
       "      <td>Pittsburgh</td>\n",
       "      <td>Allentown</td>\n",
       "      <td>0.1</td>\n",
       "      <td>40.42372131</td>\n",
       "      <td>-79.99478912</td>\n",
       "      <td>NaN</td>\n",
       "    </tr>\n",
       "  </tbody>\n",
       "</table>\n",
       "</div>"
      ],
      "text/plain": [
       "           site_name     Status        City Neighborhood estimated_tons  \\\n",
       "0  St. Martin Street   Surveyed  Pittsburgh    Allentown            0.5   \n",
       "1   Brosville Street   Surveyed  Pittsburgh    Allentown              3   \n",
       "2      McCain Street   Surveyed  Pittsburgh    Allentown              1   \n",
       "3          Ceres Way   Surveyed  Pittsburgh    Allentown            0.5   \n",
       "4      Eureka Street  Completed  Pittsburgh    Allentown            0.1   \n",
       "\n",
       "      latitude     longitude  Unnamed: 8  \n",
       "0  40.42221971  -79.99022525         NaN  \n",
       "1  40.42370101  -79.98657393         NaN  \n",
       "2  40.42427063  -79.99022675         NaN  \n",
       "3  40.42327242  -79.99248958         NaN  \n",
       "4  40.42372131  -79.99478912         NaN  "
      ]
     },
     "execution_count": 5,
     "metadata": {},
     "output_type": "execute_result"
    }
   ],
   "source": [
    "#Use dropna to get rid of null values in the subset 'estimated_tons'\n",
    "sites_with_tons = illegaldumpsites.dropna(subset = ['estimated_tons'])\n",
    "sites_with_tons.head()"
   ]
  },
  {
   "cell_type": "markdown",
   "metadata": {},
   "source": [
    "Since there is some data from outside of Pittsburgh, I created a query mask to filter out any data that doesn't belong to pittsburgh."
   ]
  },
  {
   "cell_type": "code",
   "execution_count": 6,
   "metadata": {},
   "outputs": [
    {
     "data": {
      "text/html": [
       "<div>\n",
       "<style scoped>\n",
       "    .dataframe tbody tr th:only-of-type {\n",
       "        vertical-align: middle;\n",
       "    }\n",
       "\n",
       "    .dataframe tbody tr th {\n",
       "        vertical-align: top;\n",
       "    }\n",
       "\n",
       "    .dataframe thead th {\n",
       "        text-align: right;\n",
       "    }\n",
       "</style>\n",
       "<table border=\"1\" class=\"dataframe\">\n",
       "  <thead>\n",
       "    <tr style=\"text-align: right;\">\n",
       "      <th></th>\n",
       "      <th>site_name</th>\n",
       "      <th>Status</th>\n",
       "      <th>City</th>\n",
       "      <th>Neighborhood</th>\n",
       "      <th>estimated_tons</th>\n",
       "      <th>latitude</th>\n",
       "      <th>longitude</th>\n",
       "      <th>Unnamed: 8</th>\n",
       "    </tr>\n",
       "  </thead>\n",
       "  <tbody>\n",
       "    <tr>\n",
       "      <th>0</th>\n",
       "      <td>St. Martin Street</td>\n",
       "      <td>Surveyed</td>\n",
       "      <td>Pittsburgh</td>\n",
       "      <td>Allentown</td>\n",
       "      <td>0.5</td>\n",
       "      <td>40.42221971</td>\n",
       "      <td>-79.99022525</td>\n",
       "      <td>NaN</td>\n",
       "    </tr>\n",
       "    <tr>\n",
       "      <th>1</th>\n",
       "      <td>Brosville Street</td>\n",
       "      <td>Surveyed</td>\n",
       "      <td>Pittsburgh</td>\n",
       "      <td>Allentown</td>\n",
       "      <td>3</td>\n",
       "      <td>40.42370101</td>\n",
       "      <td>-79.98657393</td>\n",
       "      <td>NaN</td>\n",
       "    </tr>\n",
       "    <tr>\n",
       "      <th>2</th>\n",
       "      <td>McCain Street</td>\n",
       "      <td>Surveyed</td>\n",
       "      <td>Pittsburgh</td>\n",
       "      <td>Allentown</td>\n",
       "      <td>1</td>\n",
       "      <td>40.42427063</td>\n",
       "      <td>-79.99022675</td>\n",
       "      <td>NaN</td>\n",
       "    </tr>\n",
       "    <tr>\n",
       "      <th>3</th>\n",
       "      <td>Ceres Way</td>\n",
       "      <td>Surveyed</td>\n",
       "      <td>Pittsburgh</td>\n",
       "      <td>Allentown</td>\n",
       "      <td>0.5</td>\n",
       "      <td>40.42327242</td>\n",
       "      <td>-79.99248958</td>\n",
       "      <td>NaN</td>\n",
       "    </tr>\n",
       "    <tr>\n",
       "      <th>4</th>\n",
       "      <td>Eureka Street</td>\n",
       "      <td>Completed</td>\n",
       "      <td>Pittsburgh</td>\n",
       "      <td>Allentown</td>\n",
       "      <td>0.1</td>\n",
       "      <td>40.42372131</td>\n",
       "      <td>-79.99478912</td>\n",
       "      <td>NaN</td>\n",
       "    </tr>\n",
       "  </tbody>\n",
       "</table>\n",
       "</div>"
      ],
      "text/plain": [
       "           site_name     Status        City Neighborhood estimated_tons  \\\n",
       "0  St. Martin Street   Surveyed  Pittsburgh    Allentown            0.5   \n",
       "1   Brosville Street   Surveyed  Pittsburgh    Allentown              3   \n",
       "2      McCain Street   Surveyed  Pittsburgh    Allentown              1   \n",
       "3          Ceres Way   Surveyed  Pittsburgh    Allentown            0.5   \n",
       "4      Eureka Street  Completed  Pittsburgh    Allentown            0.1   \n",
       "\n",
       "      latitude     longitude  Unnamed: 8  \n",
       "0  40.42221971  -79.99022525         NaN  \n",
       "1  40.42370101  -79.98657393         NaN  \n",
       "2  40.42427063  -79.99022675         NaN  \n",
       "3  40.42327242  -79.99248958         NaN  \n",
       "4  40.42372131  -79.99478912         NaN  "
      ]
     },
     "execution_count": 6,
     "metadata": {},
     "output_type": "execute_result"
    }
   ],
   "source": [
    "#query mask to filter out rows with cities other than Pittsburgh\n",
    "query_mask = sites_with_tons['City'] == 'Pittsburgh'\n",
    "pittsburgh = sites_with_tons[query_mask]\n",
    "pittsburgh.head(5)"
   ]
  },
  {
   "cell_type": "markdown",
   "metadata": {},
   "source": [
    "Now that I got rid of the unwanted data, I made a copy of the pittsburgh slice so it could undergo changes."
   ]
  },
  {
   "cell_type": "code",
   "execution_count": 8,
   "metadata": {},
   "outputs": [],
   "source": [
    "#make copy of pittsburgh data slice\n",
    "copy_pittsburgh = pittsburgh.copy()"
   ]
  },
  {
   "cell_type": "markdown",
   "metadata": {},
   "source": [
    "It seems that the estimated tons values are strings, So I'll have to convert them to numeric values in order to perform operations."
   ]
  },
  {
   "cell_type": "code",
   "execution_count": 9,
   "metadata": {},
   "outputs": [],
   "source": [
    "#use to_numeric to convert the values in 'estimate_tons' from strings to numerics\n",
    "copy_pittsburgh[\"estimated_tons\"]= copy_pittsburgh[\"estimated_tons\"].apply(pd.to_numeric)"
   ]
  },
  {
   "cell_type": "markdown",
   "metadata": {},
   "source": [
    "To find the total of trash illegally dumped per neighborhood, I used groupby to find the sum of estimated tons for each neighborhood.The code will add up our totals for each neighborhood."
   ]
  },
  {
   "cell_type": "code",
   "execution_count": 10,
   "metadata": {},
   "outputs": [
    {
     "data": {
      "text/html": [
       "<div>\n",
       "<style scoped>\n",
       "    .dataframe tbody tr th:only-of-type {\n",
       "        vertical-align: middle;\n",
       "    }\n",
       "\n",
       "    .dataframe tbody tr th {\n",
       "        vertical-align: top;\n",
       "    }\n",
       "\n",
       "    .dataframe thead th {\n",
       "        text-align: right;\n",
       "    }\n",
       "</style>\n",
       "<table border=\"1\" class=\"dataframe\">\n",
       "  <thead>\n",
       "    <tr style=\"text-align: right;\">\n",
       "      <th></th>\n",
       "      <th>estimated_tons</th>\n",
       "      <th>Unnamed: 8</th>\n",
       "    </tr>\n",
       "    <tr>\n",
       "      <th>Neighborhood</th>\n",
       "      <th></th>\n",
       "      <th></th>\n",
       "    </tr>\n",
       "  </thead>\n",
       "  <tbody>\n",
       "    <tr>\n",
       "      <th>Allentown</th>\n",
       "      <td>10.4</td>\n",
       "      <td>0.0</td>\n",
       "    </tr>\n",
       "    <tr>\n",
       "      <th>Arlington</th>\n",
       "      <td>17.5</td>\n",
       "      <td>0.0</td>\n",
       "    </tr>\n",
       "    <tr>\n",
       "      <th>Banksville</th>\n",
       "      <td>1.0</td>\n",
       "      <td>0.0</td>\n",
       "    </tr>\n",
       "    <tr>\n",
       "      <th>Bedford Dwellings</th>\n",
       "      <td>1.0</td>\n",
       "      <td>0.0</td>\n",
       "    </tr>\n",
       "    <tr>\n",
       "      <th>Beechview</th>\n",
       "      <td>11.0</td>\n",
       "      <td>0.0</td>\n",
       "    </tr>\n",
       "  </tbody>\n",
       "</table>\n",
       "</div>"
      ],
      "text/plain": [
       "                   estimated_tons  Unnamed: 8\n",
       "Neighborhood                                 \n",
       "Allentown                    10.4         0.0\n",
       "Arlington                    17.5         0.0\n",
       "Banksville                    1.0         0.0\n",
       "Bedford Dwellings             1.0         0.0\n",
       "Beechview                    11.0         0.0"
      ]
     },
     "execution_count": 10,
     "metadata": {},
     "output_type": "execute_result"
    }
   ],
   "source": [
    "#use groupby by to group data by neighborhoods and sum to find the total of estimated tons per neighborhood\n",
    "neighborhood_totals = copy_pittsburgh.groupby('Neighborhood').sum()\n",
    "neighborhood_totals.head()"
   ]
  },
  {
   "cell_type": "code",
   "execution_count": 13,
   "metadata": {},
   "outputs": [
    {
     "data": {
      "text/plain": [
       "<matplotlib.axes._subplots.AxesSubplot at 0x7ff02c904c40>"
      ]
     },
     "execution_count": 13,
     "metadata": {},
     "output_type": "execute_result"
    },
    {
     "data": {
      "image/png": "[encoded data removed]",
      "text/plain": [
       "<Figure size 1224x504 with 1 Axes>"
      ]
     },
     "metadata": {
      "needs_background": "light"
     },
     "output_type": "display_data"
    }
   ],
   "source": [
    "#bar chart to represent the estimated tons per neighborhood\n",
    "neighborhood_totals.plot.bar(figsize=(17,7), width = 1, color = 'olive')"
   ]
  },
  {
   "cell_type": "markdown",
   "metadata": {},
   "source": [
    "Beltzhoover seems to be extremely high to a point that might distort our data. Let's see how many times Beltzhoover appears in the dataset to find it is stinkier than the average neighborhood."
   ]
  },
  {
   "cell_type": "code",
   "execution_count": 11,
   "metadata": {},
   "outputs": [
    {
     "data": {
      "text/html": [
       "<div>\n",
       "<style scoped>\n",
       "    .dataframe tbody tr th:only-of-type {\n",
       "        vertical-align: middle;\n",
       "    }\n",
       "\n",
       "    .dataframe tbody tr th {\n",
       "        vertical-align: top;\n",
       "    }\n",
       "\n",
       "    .dataframe thead th {\n",
       "        text-align: right;\n",
       "    }\n",
       "</style>\n",
       "<table border=\"1\" class=\"dataframe\">\n",
       "  <thead>\n",
       "    <tr style=\"text-align: right;\">\n",
       "      <th></th>\n",
       "      <th>site_name</th>\n",
       "      <th>Status</th>\n",
       "      <th>City</th>\n",
       "      <th>estimated_tons</th>\n",
       "      <th>latitude</th>\n",
       "      <th>longitude</th>\n",
       "      <th>Unnamed: 8</th>\n",
       "    </tr>\n",
       "    <tr>\n",
       "      <th>Neighborhood</th>\n",
       "      <th></th>\n",
       "      <th></th>\n",
       "      <th></th>\n",
       "      <th></th>\n",
       "      <th></th>\n",
       "      <th></th>\n",
       "      <th></th>\n",
       "    </tr>\n",
       "  </thead>\n",
       "  <tbody>\n",
       "    <tr>\n",
       "      <th>Allentown</th>\n",
       "      <td>7</td>\n",
       "      <td>7</td>\n",
       "      <td>7</td>\n",
       "      <td>7</td>\n",
       "      <td>7</td>\n",
       "      <td>7</td>\n",
       "      <td>0</td>\n",
       "    </tr>\n",
       "    <tr>\n",
       "      <th>Arlington</th>\n",
       "      <td>9</td>\n",
       "      <td>9</td>\n",
       "      <td>9</td>\n",
       "      <td>9</td>\n",
       "      <td>9</td>\n",
       "      <td>9</td>\n",
       "      <td>0</td>\n",
       "    </tr>\n",
       "    <tr>\n",
       "      <th>Banksville</th>\n",
       "      <td>1</td>\n",
       "      <td>1</td>\n",
       "      <td>1</td>\n",
       "      <td>1</td>\n",
       "      <td>1</td>\n",
       "      <td>1</td>\n",
       "      <td>0</td>\n",
       "    </tr>\n",
       "    <tr>\n",
       "      <th>Bedford Dwellings</th>\n",
       "      <td>1</td>\n",
       "      <td>1</td>\n",
       "      <td>1</td>\n",
       "      <td>1</td>\n",
       "      <td>1</td>\n",
       "      <td>1</td>\n",
       "      <td>0</td>\n",
       "    </tr>\n",
       "    <tr>\n",
       "      <th>Beechview</th>\n",
       "      <td>8</td>\n",
       "      <td>8</td>\n",
       "      <td>8</td>\n",
       "      <td>8</td>\n",
       "      <td>7</td>\n",
       "      <td>7</td>\n",
       "      <td>0</td>\n",
       "    </tr>\n",
       "  </tbody>\n",
       "</table>\n",
       "</div>"
      ],
      "text/plain": [
       "                   site_name  Status  City  estimated_tons  latitude  \\\n",
       "Neighborhood                                                           \n",
       "Allentown                  7       7     7               7         7   \n",
       "Arlington                  9       9     9               9         9   \n",
       "Banksville                 1       1     1               1         1   \n",
       "Bedford Dwellings          1       1     1               1         1   \n",
       "Beechview                  8       8     8               8         7   \n",
       "\n",
       "                   longitude  Unnamed: 8  \n",
       "Neighborhood                              \n",
       "Allentown                  7           0  \n",
       "Arlington                  9           0  \n",
       "Banksville                 1           0  \n",
       "Bedford Dwellings          1           0  \n",
       "Beechview                  7           0  "
      ]
     },
     "execution_count": 11,
     "metadata": {},
     "output_type": "execute_result"
    }
   ],
   "source": [
    "#Use groupy to group the data by neighborhood and count the amount of entries for each neighborhood\n",
    "collection_counts = copy_pittsburgh.groupby(\"Neighborhood\").count()\n",
    "collection_counts.head()"
   ]
  },
  {
   "cell_type": "markdown",
   "metadata": {},
   "source": [
    "Using loc to find the count for Beltzhoover, we find that Beltzhoover has 36 sites in the data set."
   ]
  },
  {
   "cell_type": "code",
   "execution_count": 13,
   "metadata": {},
   "outputs": [
    {
     "data": {
      "text/plain": [
       "36"
      ]
     },
     "execution_count": 13,
     "metadata": {},
     "output_type": "execute_result"
    }
   ],
   "source": [
    "#using loc to find the count for Beltzhoover in the estimated tons column\n",
    "collection_counts.loc[\"Beltzhoover\",\"estimated_tons\"]"
   ]
  },
  {
   "cell_type": "markdown",
   "metadata": {},
   "source": [
    "Using the mean function, I found that there is an average of around 7.8 entries per neighborhood. With over 36 entries, Beltzhoover's entry count is significantly higher than the average."
   ]
  },
  {
   "cell_type": "code",
   "execution_count": 12,
   "metadata": {},
   "outputs": [
    {
     "data": {
      "text/plain": [
       "site_name         7.844156\n",
       "Status            7.844156\n",
       "City              7.844156\n",
       "estimated_tons    7.844156\n",
       "latitude          7.818182\n",
       "longitude         7.818182\n",
       "Unnamed: 8        0.000000\n",
       "dtype: float64"
      ]
     },
     "execution_count": 12,
     "metadata": {},
     "output_type": "execute_result"
    }
   ],
   "source": [
    "#Find the average of entries\n",
    "collection_counts.mean()"
   ]
  }
 ],
 "metadata": {
  "kernelspec": {
   "display_name": "Python 3",
   "language": "python",
   "name": "python3"
  },
  "language_info": {
   "codemirror_mode": {
    "name": "ipython",
    "version": 3
   },
   "file_extension": ".py",
   "mimetype": "text/x-python",
   "name": "python",
   "nbconvert_exporter": "python",
   "pygments_lexer": "ipython3",
   "version": "3.8.3"
  }
 },
 "nbformat": 4,
 "nbformat_minor": 4
}
